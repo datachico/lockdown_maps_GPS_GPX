{
 "cells": [
  {
   "cell_type": "markdown",
   "metadata": {},
   "source": [
    "# Google Location History - Map Activity using Folium, GPS, GPX \n",
    "\n"
   ]
  },
  {
   "cell_type": "code",
   "execution_count": 3,
   "metadata": {},
   "outputs": [],
   "source": [
    "import gpxpy\n",
    "import pandas as pd\n",
    "import numpy as np\n",
    "import math\n",
    "import pdb\n",
    "from folium import plugins\n",
    "import folium\n",
    "from IPython.display import display, HTML\n",
    "import branca\n",
    "from collections import namedtuple\n",
    "import xml.etree.ElementTree as ET\n",
    "import os\n",
    "import gpxpy\n",
    "from datetime import datetime\n",
    "import time\n",
    "import json\n",
    "from datetime import datetime as dt\n",
    "from mpl_toolkits.basemap import Basemap\n",
    "import imageio\n",
    "\n",
    "%matplotlib inline\n"
   ]
  },
  {
   "cell_type": "markdown",
   "metadata": {},
   "source": [
    "# Load Google Data\n",
    "Code from [this very helpful blog post](http://geoffboeing.com/2016/06/mapping-google-location-history-python/). \n",
    "Uses GPS data from two people living in same household."
   ]
  },
  {
   "cell_type": "code",
   "execution_count": 4,
   "metadata": {},
   "outputs": [
    {
     "name": "stdout",
     "output_type": "stream",
     "text": [
      "There are 1,423,552 rows in the location history dataset\n"
     ]
    }
   ],
   "source": [
    "# load the google location history data\n",
    "df_gps = pd.read_json('raw_data/Historial de ubicaciones.json')\n",
    "df_gps['source'] = 'patrick'\n",
    "# read in steph data and concat\n",
    "df_gps_steph = pd.read_json('raw_data/steph_location_history.json')\n",
    "df_gps_steph['source'] = 'steph'\n",
    "\n",
    "df_gps = pd.concat([df_gps, df_gps_steph])\n",
    "\n",
    "print('There are {:,} rows in the location history dataset'.format(len(df_gps)))"
   ]
  },
  {
   "cell_type": "code",
   "execution_count": 5,
   "metadata": {},
   "outputs": [
    {
     "name": "stdout",
     "output_type": "stream",
     "text": [
      "<class 'pandas.core.frame.DataFrame'>\n",
      "Int64Index: 1423552 entries, 0 to 8793\n",
      "Data columns (total 5 columns):\n",
      "source      1423552 non-null object\n",
      "lat         1423552 non-null float64\n",
      "lon         1423552 non-null float64\n",
      "datetime    1423552 non-null datetime64[ns]\n",
      "week        1423552 non-null int64\n",
      "dtypes: datetime64[ns](1), float64(2), int64(1), object(1)\n",
      "memory usage: 65.2+ MB\n",
      "None\n",
      "    source        lat         lon            datetime  week\n",
      "0  patrick  37.767784 -122.429118 2013-09-13 08:59:31    37\n",
      "1  patrick  37.767786 -122.429121 2013-09-13 08:59:34    37\n",
      "2  patrick  37.767787 -122.429124 2013-09-13 08:59:35    37\n",
      "3  patrick  37.767788 -122.429126 2013-09-13 08:59:36    37\n",
      "4  patrick  37.767793 -122.429139 2013-09-13 09:00:22    37\n"
     ]
    }
   ],
   "source": [
    "# parse lat, lon, and timestamp from the dict inside the locations column\n",
    "df_gps['lat'] = df_gps['locations'].map(lambda x: x['latitudeE7'])\n",
    "df_gps['lon'] = df_gps['locations'].map(lambda x: x['longitudeE7'])\n",
    "df_gps['timestamp_ms'] = df_gps['locations'].map(lambda x: x['timestampMs'])\n",
    "\n",
    "# convert lat/lon to decimalized degrees and the timestamp to date-time\n",
    "df_gps['lat'] = df_gps['lat'] / 10.**7\n",
    "df_gps['lon'] = df_gps['lon'] / 10.**7\n",
    "df_gps['timestamp_ms'] = df_gps['timestamp_ms'].astype(float) / 1000\n",
    "df_gps['datetime'] = df_gps['timestamp_ms'].map(lambda x: dt.fromtimestamp(x).strftime('%Y-%m-%d %H:%M:%S'))\n",
    "date_range = '{}-{}'.format(df_gps['datetime'].min()[:4], df_gps['datetime'].max()[:4])\n",
    "\n",
    "# drop columns we don't need, then show a slice of the dataframe\n",
    "df_gps = df_gps.drop(labels=['locations', 'timestamp_ms'], axis=1, inplace=False)\n",
    "\n",
    "df_gps['datetime']  = pd.to_datetime(df_gps['datetime'])\n",
    "df_gps['week'] = df_gps['datetime'].dt.week\n",
    "\n",
    "print(df_gps.info())\n",
    "print(df_gps.head(5))"
   ]
  },
  {
   "cell_type": "markdown",
   "metadata": {},
   "source": [
    "# Data Cleaning\n",
    "* 1) Define Before quarantine and after quarantine date range.\n",
    "* 2) Filter data.\n",
    "* 3) Create simple plots on a map showing the difference."
   ]
  },
  {
   "cell_type": "code",
   "execution_count": 6,
   "metadata": {},
   "outputs": [
    {
     "name": "stderr",
     "output_type": "stream",
     "text": [
      "/Users/patricknoonan/anaconda2/lib/python3.7/site-packages/ipykernel_launcher.py:8: SettingWithCopyWarning: \n",
      "A value is trying to be set on a copy of a slice from a DataFrame.\n",
      "Try using .loc[row_indexer,col_indexer] = value instead\n",
      "\n",
      "See the caveats in the documentation: http://pandas.pydata.org/pandas-docs/stable/user_guide/indexing.html#returning-a-view-versus-a-copy\n",
      "  \n",
      "/Users/patricknoonan/anaconda2/lib/python3.7/site-packages/ipykernel_launcher.py:10: SettingWithCopyWarning: \n",
      "A value is trying to be set on a copy of a slice from a DataFrame.\n",
      "Try using .loc[row_indexer,col_indexer] = value instead\n",
      "\n",
      "See the caveats in the documentation: http://pandas.pydata.org/pandas-docs/stable/user_guide/indexing.html#returning-a-view-versus-a-copy\n",
      "  # Remove the CWD from sys.path while we load stuff.\n",
      "/Users/patricknoonan/anaconda2/lib/python3.7/site-packages/ipykernel_launcher.py:12: SettingWithCopyWarning: \n",
      "A value is trying to be set on a copy of a slice from a DataFrame.\n",
      "Try using .loc[row_indexer,col_indexer] = value instead\n",
      "\n",
      "See the caveats in the documentation: http://pandas.pydata.org/pandas-docs/stable/user_guide/indexing.html#returning-a-view-versus-a-copy\n",
      "  if sys.path[0] == '':\n"
     ]
    }
   ],
   "source": [
    "#Define date ranges of 3 distinct phases.\n",
    "pre_q_date_mask = (df_gps['datetime'] >= '2020-01-08') & (df_gps['datetime'] <= '2020-03-15') \n",
    "post_q_date_mask = (df_gps['datetime'] >= '2020-03-16') & (df_gps['datetime'] <= '2020-05-01') & (df_gps['lon']>-.35939) &(df_gps['lat']>39.4640776) &(df_gps['lat']<39.47182)    \n",
    "exercise_q_date_mask =  (df_gps['datetime'] >= '2020-05-02')\n",
    "\n",
    "#filter data\n",
    "pre_q_df = df_gps[pre_q_date_mask]\n",
    "pre_q_df['phase'] = 'pre_q'\n",
    "post_q_df = df_gps[post_q_date_mask]\n",
    "post_q_df['phase'] = 'quarantine'\n",
    "exercise_q_df = df_gps[exercise_q_date_mask]\n",
    "exercise_q_df['phase'] = 'exercise'"
   ]
  },
  {
   "cell_type": "markdown",
   "metadata": {},
   "source": [
    "# Screenshot Function"
   ]
  },
  {
   "cell_type": "code",
   "execution_count": 93,
   "metadata": {},
   "outputs": [],
   "source": [
    "def get_png_screenshot_of_html(map_name):\n",
    "    delay=5\n",
    "    tmpurl='file://{path}/{mapfile}'.format(path=os.getcwd(),mapfile=map_name)\n",
    "    browser = webdriver.Firefox(executable_path=r'/Users/patricknoonan/geckodriver')\n",
    "\n",
    "    #set size and position\n",
    "#     browser.set_window_position(0, 0)\n",
    "#     browser.set_window_size(1024, 768)\n",
    "    \n",
    "    browser.maximize_window()\n",
    "    \n",
    "    browser.get(tmpurl)\n",
    "    time.sleep(delay)\n",
    "    png_map_name = map_name + '.png'\n",
    "    browser.save_screenshot(png_map_name)\n",
    "    browser.quit()"
   ]
  },
  {
   "cell_type": "markdown",
   "metadata": {},
   "source": [
    "# Pre Q by week"
   ]
  },
  {
   "cell_type": "code",
   "execution_count": 278,
   "metadata": {},
   "outputs": [],
   "source": [
    "def make_gif_by_phase(df_name, df_string_name, duration=1, make_gif=True, zoom_start=14, draw_radius_stephs=False, show_home_marker=False, map_title=False):\n",
    "    week_list = list(df_name.week.unique())\n",
    "    png_list = []\n",
    "    for week in week_list:\n",
    "            #isolate df \n",
    "        week_df = df_name[df_name.week==week]\n",
    "        week_map_name = df_string_name + str(week) + '_.html'\n",
    "        #make map with week name\n",
    "        scatter_map(week_df, map_name=week_map_name, zoom_start=zoom_start, draw_radius_stephs=draw_radius_stephs, show_home_marker=show_home_marker, map_title=map_title)\n",
    "        #do screenshots\n",
    "        get_png_screenshot_of_html(week_map_name)\n",
    "        png_map_name = week_map_name + '.png'\n",
    "        png_list.append(png_map_name)\n",
    "    #make gif\n",
    "    if make_gif:\n",
    "        create_gif(png_list, duration)\n",
    "    return png_list\n",
    "    "
   ]
  },
  {
   "cell_type": "markdown",
   "metadata": {},
   "source": [
    "Create entire GIF"
   ]
  },
  {
   "cell_type": "code",
   "execution_count": 250,
   "metadata": {},
   "outputs": [
    {
     "name": "stdout",
     "output_type": "stream",
     "text": [
      "elapsed time is:\n",
      "5.325122364362081\n"
     ]
    }
   ],
   "source": [
    "#zoom 14 - should have:\n",
    "#steph and P data pre-q  - BLUE DOTS\n",
    "#steph data during q   - RED DOTS\n",
    "#steph and P, exercise phase  - RED DOTS\n",
    "\n",
    "start_time = time.time()\n",
    "\n",
    "pre_q_list = make_gif_by_phase(pre_q_df, df_string_name='pre_q_df' , make_gif=False, zoom_start= 14, draw_radius_stephs=False, show_home_marker=True,  map_title=True)\n",
    "post_q_list = make_gif_by_phase(post_q_df, df_string_name='post_q_df' , make_gif=False, zoom_start= 14, draw_radius_stephs=False, show_home_marker=True, map_title=True)\n",
    "exercise_q_df_list = make_gif_by_phase(exercise_q_df, df_string_name='exercise_q_df' , make_gif=False, zoom_start= 14, draw_radius_stephs=True, show_home_marker=True, map_title=True)\n",
    "\n",
    "joinedlist = pre_q_list + post_q_list + exercise_q_df_list\n",
    "create_gif(joinedlist, 1.85, '05_13_zoom_14_5_12.gif')\n",
    "\n",
    "elapsed_time = time.time() - start_time\n",
    "print('elapsed time is:')\n",
    "print(elapsed_time/60)"
   ]
  },
  {
   "cell_type": "markdown",
   "metadata": {},
   "source": [
    "Create GIF\n"
   ]
  },
  {
   "cell_type": "code",
   "execution_count": 205,
   "metadata": {},
   "outputs": [],
   "source": [
    "\n",
    "#filenames=['pre_q_map_valencia_week_10_.html.png', 'pre_q_map_valencia_week_11_.html.png']\n",
    "def create_gif(filenames, duration, gif_name):\n",
    "    images = []\n",
    "    for filename in filenames:\n",
    "        images.append(imageio.imread(filename))\n",
    "    #output_file = 'Gif-%s.gif' % filename.split(\"\\\\\")[-1].split(\".\")[0]\n",
    "    \n",
    "    imageio.mimsave(gif_name, images, duration=duration)\n",
    "\n"
   ]
  },
  {
   "cell_type": "markdown",
   "metadata": {},
   "source": [
    "# Scatter Maps"
   ]
  },
  {
   "cell_type": "code",
   "execution_count": 7,
   "metadata": {},
   "outputs": [],
   "source": [
    "#tiles link: https://nbviewer.jupyter.org/github/python-visualization/folium/blob/master/examples/TilesExample.ipynb\n",
    "\n",
    "\n",
    "def scatter_map (df, map_name='my_quarantine_map.html', zoom_start=14, draw_radius_stephs=False, show_home_marker=False, map_title=False):\n",
    "    \n",
    "    mymap = folium.Map( location=[39.461242, -0.3577096], zoom_start=zoom_start, tiles=None) \n",
    "    folium.TileLayer('Stamen Toner', name='Stamen Toner').add_to(mymap)\n",
    "    \n",
    "    if df.iloc[0].phase =='quarantine':\n",
    "        #more accurate GPS data, only use Steph\n",
    "        df = df[df.source=='steph']\n",
    "    elif df.iloc[0].phase =='exercise':\n",
    "        #to de-clutter exercise phase, only Patrick data\n",
    "        df = df[df.source=='patrick']\n",
    "        \n",
    "    for index, row in df.iterrows():\n",
    "        circle_message = str(row.datetime) + '  lat is: ' + str(row.lat)+ '  lon is: ' + str(row.lon)\n",
    "        if df.iloc[0].phase =='pre_q':\n",
    "            folium.vector_layers.Circle(location=[row.lat, row.lon], radius=30, color='blue', fill_color='blue', weight=2, fill_opacity=0.3, tooltip=circle_message).add_to(mymap)\n",
    "        elif df.iloc[0].phase =='quarantine':\n",
    "            folium.vector_layers.Circle(location=[row.lat, row.lon], radius=30, color='red', fill_color='red', weight=2, fill_opacity=0.3, tooltip=circle_message).add_to(mymap)\n",
    "        elif df.iloc[0].phase =='exercise':\n",
    "            folium.vector_layers.Circle(location=[row.lat, row.lon], radius=30, color='red', fill_color='red', weight=2, fill_opacity=0.3, tooltip=circle_message).add_to(mymap)\n",
    "            \n",
    "    if draw_radius_stephs:\n",
    "        folium.vector_layers.Circle(location=[39.470460, -0.357680], radius=1000, color='red', fill_color='red', weight=2, fill_opacity=0.1, tooltip=circle_message).add_to(mymap)\n",
    "    \n",
    "    if show_home_marker:\n",
    "        folium.Marker([39.470460, -0.357680], popup='Home', icon=folium.Icon(color='black',  opacity=0.2, icon_color='white', icon='home', prefix='fa')).add_to(mymap)\n",
    "    \n",
    "    if map_title==True:\n",
    "        #Logic for color of dots and messaging\n",
    "        if df.iloc[0].phase =='pre_q':\n",
    "            weeks_before_lockdown = 12 - df.iloc[0].week\n",
    "            current_week_in_date_format = df.iloc[0].datetime.strftime(\"%B %-d, %Y\")\n",
    "\n",
    "            title_html = '''\n",
    "                 <h3 align=\"center\" style=\"font-size:20px\"><b>Week of {current_week_in_date_format}. Normal Life.</b></h3>\n",
    "                 <h3 align=\"center\" style=\"font-size:40px\"><b>Weeks before Lockdown: {weeks_before_lockdown}  </b></h3>\n",
    "\n",
    "                 '''.format(weeks_before_lockdown=weeks_before_lockdown, current_week_in_date_format=current_week_in_date_format)\n",
    "            mymap.get_root().html.add_child(folium.Element(title_html))\n",
    "        elif df.iloc[0].phase == 'quarantine':\n",
    "            weeks_of_lockdown =  df.iloc[0].week - 11\n",
    "            current_week_in_date_format = df.iloc[0].datetime.strftime(\"%B %-d, %Y\")\n",
    "\n",
    "            title_html = '''\n",
    "                 <h3 align=\"center\" style=\"font-size:20px\"><b>Week of {current_week_in_date_format}. Life in Lockdown.  Forbidden to leave house (except for buying food). </b></h3>\n",
    "                 <h3 align=\"center\" style=\"font-size:40px\"><b>Weeks in Lockdown: {weeks_of_lockdown}  </b></h3>\n",
    "\n",
    "                 '''.format(weeks_of_lockdown=weeks_of_lockdown, current_week_in_date_format=current_week_in_date_format)\n",
    "            mymap.get_root().html.add_child(folium.Element(title_html))\n",
    "        elif df.iloc[0].phase == 'exercise':\n",
    "            weeks_of_lockdown =  df.iloc[0].week - 11\n",
    "            current_week_in_date_format = df.iloc[0].datetime.strftime(\"%B %-d, %Y\")\n",
    "\n",
    "            title_html = '''\n",
    "                 <h3 align=\"center\" style=\"font-size:20px\"><b>Week of {current_week_in_date_format}. Outside walking allowed! (within 1KM radius). </b></h3>\n",
    "                 <h3 align=\"center\" style=\"font-size:40px\"><b>Weeks in Lockdown: {weeks_of_lockdown}  </b></h3>\n",
    "\n",
    "                 '''.format(weeks_of_lockdown=weeks_of_lockdown, current_week_in_date_format=current_week_in_date_format)\n",
    "            mymap.get_root().html.add_child(folium.Element(title_html))\n",
    "\n",
    "    \n",
    "#     plugins.Fullscreen(\n",
    "#         position='topright',\n",
    "#         title='Expand me',\n",
    "#         title_cancel='Exit me',\n",
    "#         force_separate_button=True\n",
    "#     ).add_to(mymap)\n",
    "\n",
    "    #folium.LayerControl(collapsed=True).add_to(mymap)\n",
    "    mymap.save(map_name)\n",
    "    mymap"
   ]
  },
  {
   "cell_type": "code",
   "execution_count": 8,
   "metadata": {},
   "outputs": [],
   "source": [
    "scatter_map(pre_q_df, map_name='for_blog_pre_q_mashup.html', zoom_start=13, show_home_marker=True, map_title=False)\n"
   ]
  },
  {
   "cell_type": "code",
   "execution_count": 9,
   "metadata": {},
   "outputs": [
    {
     "data": {
      "text/html": [
       "<iframe width=\"1000\" height=\"500\" src='for_blog_pre_q_mashup.html'</iframe>\n"
      ],
      "text/plain": [
       "<IPython.core.display.HTML object>"
      ]
     },
     "metadata": {},
     "output_type": "display_data"
    }
   ],
   "source": [
    "%%HTML\n",
    "<iframe width=\"1000\" height=\"500\" src='for_blog_pre_q_mashup.html'</iframe>"
   ]
  },
  {
   "cell_type": "code",
   "execution_count": 10,
   "metadata": {},
   "outputs": [],
   "source": [
    "scatter_map(post_q_df, map_name='for_blog_post_q_df_mashup.html', zoom_start=13, show_home_marker=True, map_title=False)\n"
   ]
  },
  {
   "cell_type": "code",
   "execution_count": 11,
   "metadata": {},
   "outputs": [
    {
     "data": {
      "text/html": [
       "<iframe width=\"1000\" height=\"500\" src='for_blog_post_q_df_mashup.html'</iframe>\n"
      ],
      "text/plain": [
       "<IPython.core.display.HTML object>"
      ]
     },
     "metadata": {},
     "output_type": "display_data"
    }
   ],
   "source": [
    "%%HTML\n",
    "<iframe width=\"1000\" height=\"500\" src='for_blog_post_q_df_mashup.html'</iframe>"
   ]
  },
  {
   "cell_type": "code",
   "execution_count": 12,
   "metadata": {},
   "outputs": [],
   "source": [
    "scatter_map(exercise_q_df, map_name='for_blog_post_exercise_q_df_mashup.html', zoom_start=13, show_home_marker=True, map_title=False, draw_radius_stephs=True)\n"
   ]
  },
  {
   "cell_type": "code",
   "execution_count": 13,
   "metadata": {},
   "outputs": [
    {
     "data": {
      "text/html": [
       "<iframe width=\"1000\" height=\"500\" src='for_blog_post_exercise_q_df_mashup.html'</iframe>\n"
      ],
      "text/plain": [
       "<IPython.core.display.HTML object>"
      ]
     },
     "metadata": {},
     "output_type": "display_data"
    }
   ],
   "source": [
    "%%HTML\n",
    "<iframe width=\"1000\" height=\"500\" src='for_blog_post_exercise_q_df_mashup.html'</iframe>"
   ]
  },
  {
   "cell_type": "markdown",
   "metadata": {},
   "source": [
    "# Bring in GPX garmin data for day by day plotting in radius\n",
    "\n",
    "Use Garmin Export script for command line tool to auto-import GPX tracks: https://github.com/pe-st/garmin-connect-export\n",
    "Shell command to update garmin tracks: venv.garminexport/src/garminexport/garminbackup.py --backup-dir='/Users/patricknoonan/Jupyter Notebooks/google_locations/activities' psnoonan@gmail.com"
   ]
  },
  {
   "cell_type": "code",
   "execution_count": 16,
   "metadata": {},
   "outputs": [],
   "source": [
    "def process_gpx_to_df(file_name):\n",
    "\n",
    "    gpx = gpxpy.parse(open(file_name))  \n",
    "    \n",
    "    #(1)make DataFrame\n",
    "    track = gpx.tracks[0]\n",
    "    segment = track.segments[0]\n",
    "    # Load the data into a Pandas dataframe (by way of a list)\n",
    "    data = []\n",
    "    segment_length = segment.length_3d()\n",
    "    for point_idx, point in enumerate(segment.points):\n",
    "        data.append([point.longitude, point.latitude,point.elevation,\n",
    "                     point.time, segment.get_speed(point_idx)])\n",
    "    columns = ['Longitude', 'Latitude', 'Altitude', 'Time', 'Speed']\n",
    "    gpx_df = pd.DataFrame(data, columns=columns)\n",
    "    \n",
    "    #2(make points tuple for line)\n",
    "    points = []\n",
    "    for track in gpx.tracks:\n",
    "        for segment in track.segments:        \n",
    "            for point in segment.points:\n",
    "                points.append(tuple([point.latitude, point.longitude]))\n",
    "    \n",
    "    return gpx_df, points\n",
    "\n",
    "def get_activity_name(gpx_file):\n",
    "    #CHILD OF ROOT, WE NEED TO ACCESS THIS: {http://www.topografix.com/GPX/1/1}trk\n",
    "    root = ET.parse(gpx_file).getroot()\n",
    "    for elem in root.iter():\n",
    "        #print(elem.tag, elem.attrib)\n",
    "        if elem.tag=='{http://www.topografix.com/GPX/1/1}name':\n",
    "            return elem.text\n",
    "        \n",
    "def get_type_activity(gpx_file):\n",
    "    #CHILD OF ROOT, WE NEED TO ACCESS THIS: {http://www.topografix.com/GPX/1/1}trk\n",
    "    root = ET.parse(gpx_file).getroot()\n",
    "    for elem in root.iter():\n",
    "        #print(elem.tag, elem.attrib)\n",
    "        if elem.tag=='{http://www.topografix.com/GPX/1/1}type':\n",
    "            return elem.text\n",
    "        \n",
    "def gpx_files_to_df_basic_stats(folder, date_start):\n",
    "    gpx_files = os.listdir(folder)\n",
    "    gpx_list = []\n",
    "    #ignore empty files\n",
    "    for file in gpx_files:\n",
    "        full_path_file = folder+file\n",
    "        date_str = file[:10]\n",
    "        if file[0] !='.':\n",
    "            date_object = datetime.strptime(date_str, '%Y-%m-%d').date()\n",
    "            date_start = datetime.strptime('2020-05-02', '%Y-%m-%d').date()\n",
    "            if os.path.getsize(full_path_file) > 0 and full_path_file[-3:]=='gpx' and date_object>= date_start:\n",
    "                activity_name = get_activity_name(full_path_file)\n",
    "                activity_type_from_gpx = get_type_activity(full_path_file)\n",
    "                date = get_date_from_gpx(full_path_file)\n",
    "                #add to new list\n",
    "                activity_dict = {'activity_name':activity_name, 'path':full_path_file, 'date':date, 'activity_type_from_gpx':activity_type_from_gpx}\n",
    "                gpx_list.append(activity_dict)  \n",
    "    return pd.DataFrame(gpx_list)\n",
    "\n",
    "def parse_garmin_activity_id_json_summary(file):\n",
    "    pattern = r'_([0-9]{6,11})_summary\\.json'\n",
    "    #pdb.set_trace()\n",
    "    match = re.search(pattern, file)\n",
    "    return match.group(1)\n",
    "\n",
    "def get_date_from_gpx(full_path_file):\n",
    "    gpx = gpxpy.parse(open(full_path_file))        \n",
    "    track = gpx.tracks[0]\n",
    "    segment = track.segments[0]\n",
    "    for point_idx, point in enumerate(segment.points):\n",
    "        return point.time\n",
    "        \n",
    "def garmin_map(activity, map_name='my_quarantine_map.html', garmin_folder = 'activities/', date_start='2020-05-02', zoom_start=13, draw_radius_stephs=False, include_geo_json=False, show_home_marker=False):\n",
    "    garmin_activities = gpx_files_to_df_basic_stats(garmin_folder, date_start=date_start)\n",
    "    garmin_activities = garmin_activities[garmin_activities.activity_type_from_gpx==activity]\n",
    "    file_name_list = garmin_activities.path.to_list()\n",
    "    mymap = folium.Map( location=[ 39.46975, -0.37739 ], zoom_start=zoom_start, tiles=None) \n",
    "\n",
    "    folium.TileLayer('Stamen Toner', name='Stamen Toner').add_to(mymap)\n",
    "    folium.TileLayer('openstreetmap', name='OpenStreet Map').add_to(mymap)\n",
    "    folium.TileLayer('https://stamen-tiles-{s}.a.ssl.fastly.net/toner-background/{z}/{x}/{y}{r}.png', attr='Map tiles by <a href=\"http://stamen.com\">Stamen Design</a>, <a href=\"http://creativecommons.org/licenses/by/3.0\">CC BY 3.0</a> &mdash; Map data &copy; <a href=\"https://www.openstreetmap.org/copyright\">OpenStreetMap</a> contributors', name='toner-background').add_to(mymap)\n",
    "    folium.TileLayer('https://stamen-tiles-{s}.a.ssl.fastly.net/toner-lite/{z}/{x}/{y}{r}.png', attr='Map tiles by <a href=\"http://stamen.com\">Stamen Design</a>, <a href=\"http://creativecommons.org/licenses/by/3.0\">CC BY 3.0</a> &mdash; Map data &copy; <a href=\"https://www.openstreetmap.org/copyright\">OpenStreetMap</a> contributors', name='toner-lite').add_to(mymap)\n",
    "\n",
    "    for file_name in file_name_list:\n",
    "        gpx_df, points = process_gpx_to_df(file_name)\n",
    "        folium.PolyLine(points, color='red', weight=3.0, opacity=1).add_to(mymap)\n",
    "    if draw_radius_stephs:\n",
    "        folium.vector_layers.Circle(location=[39.470460, -0.357680], radius=1000, color='red', fill_color='red', weight=2, fill_opacity=0.1).add_to(mymap)\n",
    "        \n",
    "    if include_geo_json==True:\n",
    "        espana_municipios_geo = r'municipio_valencia.geojson'\n",
    "        with open(espana_municipios_geo) as geo_json_file:\n",
    "            espana_municipios_file = json.load(geo_json_file)\n",
    "        folium.Choropleth(\n",
    "        geo_data=espana_municipios_file,\n",
    "        fill_color='red',\n",
    "        fill_opacity=0.2,\n",
    "        line_weight=2,\n",
    "        overlay = True, #another layer as opposed to it's on tile\n",
    "        highlight=False, #changes color as you hover over it\n",
    "        name='Municipio De Valencia',\n",
    "        show=True,\n",
    "        ).add_to(mymap)\n",
    "        \n",
    "    if show_home_marker: \n",
    "        folium.Marker([39.4639845, -0.3517744], popup='Home', icon=folium.Icon(color='black',  opacity=0.2, icon_color='white', icon='home', prefix='fa')).add_to(mymap)\n",
    "\n",
    "    plugins.Fullscreen(\n",
    "        position='topright',\n",
    "        title='Expand me',\n",
    "        title_cancel='Exit me',\n",
    "        force_separate_button=True\n",
    "    ).add_to(mymap)\n",
    "\n",
    "    folium.LayerControl(collapsed=True).add_to(mymap)\n",
    "    mymap.save(map_name)\n",
    "    mymap"
   ]
  },
  {
   "cell_type": "markdown",
   "metadata": {},
   "source": [
    "Auto Import Garmin Activities"
   ]
  },
  {
   "cell_type": "code",
   "execution_count": 17,
   "metadata": {},
   "outputs": [],
   "source": [
    "garmin_map( activity='hiking', map_name='garmin_hiking_5_13.html', zoom_start=13, draw_radius_stephs=True, include_geo_json=False, show_home_marker=True)"
   ]
  },
  {
   "cell_type": "code",
   "execution_count": 18,
   "metadata": {},
   "outputs": [
    {
     "data": {
      "text/html": [
       "<iframe width=\"1000\" height=\"500\" src='garmin_hiking_5_13.html'</iframe>\n"
      ],
      "text/plain": [
       "<IPython.core.display.HTML object>"
      ]
     },
     "metadata": {},
     "output_type": "display_data"
    }
   ],
   "source": [
    "%%HTML\n",
    "<iframe width=\"1000\" height=\"500\" src='garmin_hiking_5_13.html'</iframe>"
   ]
  },
  {
   "cell_type": "code",
   "execution_count": 19,
   "metadata": {},
   "outputs": [],
   "source": [
    "garmin_map( activity='cycling', map_name='garmin_cycling_5_13.html', zoom_start=13, draw_radius_stephs=False, include_geo_json=True, show_home_marker=True)\n"
   ]
  },
  {
   "cell_type": "code",
   "execution_count": 20,
   "metadata": {},
   "outputs": [
    {
     "data": {
      "text/html": [
       "<iframe width=\"1000\" height=\"500\" src='garmin_cycling_5_13.html'</iframe>\n"
      ],
      "text/plain": [
       "<IPython.core.display.HTML object>"
      ]
     },
     "metadata": {},
     "output_type": "display_data"
    }
   ],
   "source": [
    "%%HTML\n",
    "<iframe width=\"1000\" height=\"500\" src='garmin_cycling_5_13.html'</iframe>"
   ]
  }
 ],
 "metadata": {
  "kernelspec": {
   "display_name": "Python 3",
   "language": "python",
   "name": "python3"
  },
  "language_info": {
   "codemirror_mode": {
    "name": "ipython",
    "version": 3
   },
   "file_extension": ".py",
   "mimetype": "text/x-python",
   "name": "python",
   "nbconvert_exporter": "python",
   "pygments_lexer": "ipython3",
   "version": "3.7.5"
  }
 },
 "nbformat": 4,
 "nbformat_minor": 1
}
